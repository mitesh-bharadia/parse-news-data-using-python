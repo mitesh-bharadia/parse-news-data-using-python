{
 "cells": [
  {
   "cell_type": "code",
   "execution_count": 1,
   "metadata": {},
   "outputs": [],
   "source": [
    "#Import required libraries\n",
    "from googlesearch import search\n",
    "from bs4 import BeautifulSoup\n",
    "import requests\n",
    "import pandas as pd\n",
    "import metadata_parser"
   ]
  },
  {
   "cell_type": "code",
   "execution_count": 2,
   "metadata": {},
   "outputs": [],
   "source": [
    "searchterm = 'AutonomousVehicleTech'\n",
    "searchquery = 'site:autonomousvehicletech.com/articles + autonomous driving'"
   ]
  },
  {
   "cell_type": "code",
   "execution_count": 3,
   "metadata": {},
   "outputs": [],
   "source": [
    "url_list = []"
   ]
  },
  {
   "cell_type": "code",
   "execution_count": 4,
   "metadata": {},
   "outputs": [],
   "source": [
    "#for url in search('site:linkedin.com/pulse/ + \"ces 2020\"', tld='com', tbs='qdr:m', tpe='nws', stop=50):\n",
    "#tbs: Time limits (i.e \"qdr:h\" => last hour, \"qdr:d\" => last 24 hours, \"qdr:m\" => last month)\n",
    "#tpe: Search type (images, videos, news, shopping, books, apps)\n",
    "#Use the following values {videos: 'vid', images: 'isch',news: 'nws', shopping: 'shop', books: 'bks', applications: 'app'}"
   ]
  },
  {
   "cell_type": "code",
   "execution_count": 5,
   "metadata": {},
   "outputs": [],
   "source": [
    "for url in search(searchquery, tbs='qdr:m', tld='com'):\n",
    "    print (url)\n",
    "    url_list.append(url)"
   ]
  },
  {
   "cell_type": "code",
   "execution_count": 6,
   "metadata": {},
   "outputs": [
    {
     "data": {
      "text/plain": [
       "0"
      ]
     },
     "execution_count": 6,
     "metadata": {},
     "output_type": "execute_result"
    }
   ],
   "source": [
    "len(url_list)"
   ]
  },
  {
   "cell_type": "code",
   "execution_count": 7,
   "metadata": {},
   "outputs": [],
   "source": [
    "metadata_out = pd.DataFrame(columns=[\"Term\",\"Date\",\"URL\",\"Title\",\"Desc\",\"Tags\"])"
   ]
  },
  {
   "cell_type": "code",
   "execution_count": 8,
   "metadata": {},
   "outputs": [],
   "source": [
    "for i in url_list:\n",
    "    try:\n",
    "        r = requests.get(i)\n",
    "        page = metadata_parser.MetadataParser(url=i)\n",
    "        title = page.get_metadatas('title')\n",
    "        desc = page.get_metadatas('description')\n",
    "        tags = page.get_metadatas('keywords')\n",
    "        r = requests.get(i)\n",
    "        soup = BeautifulSoup(r.content, 'html.parser')\n",
    "        date = soup.find('div', class_='date').text\n",
    "    except Exception:\n",
    "        title = \"\"\n",
    "        desc = \"\"\n",
    "        date = \"\"\n",
    "        tags = \"\"\n",
    "    metadata_out = metadata_out.append({'Term':searchterm,'Date':date, 'URL':i,'Title':title, 'Desc':desc, 'Tags':tags}, ignore_index=True)"
   ]
  },
  {
   "cell_type": "code",
   "execution_count": 9,
   "metadata": {},
   "outputs": [
    {
     "data": {
      "text/html": [
       "<div>\n",
       "<style scoped>\n",
       "    .dataframe tbody tr th:only-of-type {\n",
       "        vertical-align: middle;\n",
       "    }\n",
       "\n",
       "    .dataframe tbody tr th {\n",
       "        vertical-align: top;\n",
       "    }\n",
       "\n",
       "    .dataframe thead th {\n",
       "        text-align: right;\n",
       "    }\n",
       "</style>\n",
       "<table border=\"1\" class=\"dataframe\">\n",
       "  <thead>\n",
       "    <tr style=\"text-align: right;\">\n",
       "      <th></th>\n",
       "      <th>Term</th>\n",
       "      <th>Date</th>\n",
       "      <th>URL</th>\n",
       "      <th>Title</th>\n",
       "      <th>Desc</th>\n",
       "      <th>Tags</th>\n",
       "    </tr>\n",
       "  </thead>\n",
       "  <tbody>\n",
       "  </tbody>\n",
       "</table>\n",
       "</div>"
      ],
      "text/plain": [
       "Empty DataFrame\n",
       "Columns: [Term, Date, URL, Title, Desc, Tags]\n",
       "Index: []"
      ]
     },
     "execution_count": 9,
     "metadata": {},
     "output_type": "execute_result"
    }
   ],
   "source": [
    "metadata_out"
   ]
  },
  {
   "cell_type": "code",
   "execution_count": 10,
   "metadata": {},
   "outputs": [],
   "source": [
    "metadata_out.to_csv('AD AutonomousVehicleTech metadata.csv')"
   ]
  },
  {
   "cell_type": "code",
   "execution_count": null,
   "metadata": {},
   "outputs": [],
   "source": []
  }
 ],
 "metadata": {
  "kernelspec": {
   "display_name": "Python 3",
   "language": "python",
   "name": "python3"
  },
  "language_info": {
   "codemirror_mode": {
    "name": "ipython",
    "version": 3
   },
   "file_extension": ".py",
   "mimetype": "text/x-python",
   "name": "python",
   "nbconvert_exporter": "python",
   "pygments_lexer": "ipython3",
   "version": "3.7.6"
  }
 },
 "nbformat": 4,
 "nbformat_minor": 2
}
