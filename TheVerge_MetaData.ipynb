{
  "nbformat": 4,
  "nbformat_minor": 0,
  "metadata": {
    "kernelspec": {
      "display_name": "Python 3",
      "language": "python",
      "name": "python3"
    },
    "language_info": {
      "codemirror_mode": {
        "name": "ipython",
        "version": 3
      },
      "file_extension": ".py",
      "mimetype": "text/x-python",
      "name": "python",
      "nbconvert_exporter": "python",
      "pygments_lexer": "ipython3",
      "version": "3.7.4"
    },
    "colab": {
      "name": "TheVerge MetaData.ipynb",
      "provenance": []
    }
  },
  "cells": [
    {
      "cell_type": "code",
      "metadata": {
        "id": "9U-3vfDLirU9",
        "outputId": "a4123a37-cdce-43fc-dd57-80ba78a9aae9",
        "colab": {
          "base_uri": "https://localhost:8080/",
          "height": 333
        }
      },
      "source": [
        "#Import required libraries\n",
        "from googlesearch import search\n",
        "from bs4 import BeautifulSoup\n",
        "import requests\n",
        "import pandas as pd\n",
        "import metadata_parser"
      ],
      "execution_count": 1,
      "outputs": [
        {
          "output_type": "error",
          "ename": "ModuleNotFoundError",
          "evalue": "ignored",
          "traceback": [
            "\u001b[0;31m---------------------------------------------------------------------------\u001b[0m",
            "\u001b[0;31mModuleNotFoundError\u001b[0m                       Traceback (most recent call last)",
            "\u001b[0;32m<ipython-input-1-c7b0f16ac19b>\u001b[0m in \u001b[0;36m<module>\u001b[0;34m()\u001b[0m\n\u001b[1;32m      4\u001b[0m \u001b[0;32mimport\u001b[0m \u001b[0mrequests\u001b[0m\u001b[0;34m\u001b[0m\u001b[0;34m\u001b[0m\u001b[0m\n\u001b[1;32m      5\u001b[0m \u001b[0;32mimport\u001b[0m \u001b[0mpandas\u001b[0m \u001b[0;32mas\u001b[0m \u001b[0mpd\u001b[0m\u001b[0;34m\u001b[0m\u001b[0;34m\u001b[0m\u001b[0m\n\u001b[0;32m----> 6\u001b[0;31m \u001b[0;32mimport\u001b[0m \u001b[0mmetadata_parser\u001b[0m\u001b[0;34m\u001b[0m\u001b[0;34m\u001b[0m\u001b[0m\n\u001b[0m",
            "\u001b[0;31mModuleNotFoundError\u001b[0m: No module named 'metadata_parser'",
            "",
            "\u001b[0;31m---------------------------------------------------------------------------\u001b[0;32m\nNOTE: If your import is failing due to a missing package, you can\nmanually install dependencies using either !pip or !apt.\n\nTo view examples of installing some common dependencies, click the\n\"Open Examples\" button below.\n\u001b[0;31m---------------------------------------------------------------------------\u001b[0m\n"
          ]
        }
      ]
    },
    {
      "cell_type": "code",
      "metadata": {
        "id": "-mJvSXBDirVF"
      },
      "source": [
        "searchterm = 'Goolge AD'\n",
        "searchquery = 'autonomous driving'"
      ],
      "execution_count": 2,
      "outputs": []
    },
    {
      "cell_type": "code",
      "metadata": {
        "id": "5rdXMLIEirVI"
      },
      "source": [
        "url_list = []"
      ],
      "execution_count": 3,
      "outputs": []
    },
    {
      "cell_type": "code",
      "metadata": {
        "id": "1B5kTZd7irVU"
      },
      "source": [
        "#for url in search('site:linkedin.com/pulse/ + \"ces 2020\"', tld='com', tbs='qdr:m', tpe='nws', stop=50):\n",
        "#tbs: Time limits (i.e \"qdr:h\" => last hour, \"qdr:d\" => last 24 hours, \"qdr:m\" => last month)\n",
        "#tpe: Search type (images, videos, news, shopping, books, apps)\n",
        "#Use the following values {videos: 'vid', images: 'isch',news: 'nws', shopping: 'shop', books: 'bks', applications: 'app'}"
      ],
      "execution_count": 4,
      "outputs": []
    },
    {
      "cell_type": "code",
      "metadata": {
        "id": "LoFJY7BqirVY",
        "outputId": "51be5ee5-989e-4745-ea74-37ab4c0a737c",
        "colab": {
          "base_uri": "https://localhost:8080/",
          "height": 1000
        }
      },
      "source": [
        "for url in search(searchquery, tbs='qdr:d', tpe='nws', tld='com'):\n",
        "    print (url)\n",
        "    url_list.append(url)"
      ],
      "execution_count": 5,
      "outputs": [
        {
          "output_type": "stream",
          "text": [
            "https://www.forbes.com/sites/enriquedans/2020/10/11/you-may-not-have-heard-but-the-autonomous-vehicle-has-nowarrived/?ss=ai\n",
            "https://oilprice.com/Energy/Energy-General/The-Worlds-First-Fully-Driverless-Vehicle-Ready-To-Hit-The-Roads.html\n",
            "https://www.theburnin.com/technology/waymo-self-driving-taxi-service-phoenix-expands-more-riders-2020-10-10/\n",
            "https://seekingalpha.com/article/4378479-who-will-win-lucrative-autonomous-vehicles-robotaxis-race\n",
            "https://www.geektime.com/foretellix-acquires-metamoto/\n",
            "https://www.autonews.com/executives/american-whos-out-transform-toyota\n",
            "https://www.greencarcongress.com/2020/10/20201011-traxen.html\n",
            "https://www.auganix.org/hyundai-mobis-to-mass-produce-augmented-reality-hud-solutions-for-vehicles-by-2025/\n",
            "https://www.heraldmailmedia.com/news/state/comfort-writes-childrens-book-on-transportation/article_15444982-805b-5ecf-998c-4755cb972f4d.html\n",
            "https://www.gamespot.com/articles/playstation-creator-is-now-doing-something-completely-different/1100-6483155/\n",
            "https://www.fox17online.com/news/local-news/shuttle-company-celebrating-one-year-anniversary-with-growth-job-opportunities\n",
            "https://gmauthority.com/blog/2020/10/general-motors-trimmed-u-s-sedan-lineup-from-13-to-3-models-in-five-years/comment-page-2/\n",
            "https://www.autoblog.com/2020/10/10/waymo-trucking-tusimple-autonomous-highway-safety/\n",
            "https://www.forbes.com/sites/johnkoetsier/2020/10/10/1000x-cheaper-300x-faster-how-amazon-is-disrupting-robot-intelligence/\n",
            "https://medium.com/@sriya.mnne/startups-spurring-innovation-in-connected-car-technology-b3c3253e964e?source=topic_page---------0------------------1----------\n",
            "https://www.analyticsinsight.net/what-is-deep-learning-a-simple-guide-with-examples/\n",
            "https://www.reportdoor.com/7-ai-stocks-with-more-hype-than-bite/\n",
            "https://news.cgtn.com/news/2020-10-11/What-should-consumers-know-about-the-30-billion-chip-business--Uvc60XeZPO/index.html\n",
            "https://www.nanalyze.com/2020/10/root-insurance-insurtech-stock/\n",
            "https://sportsgrindentertainment.com/fuelcell-energy-gains-over-10-on-8m-us-contract/\n",
            "https://prnewsleader.com/news/156316/autonomous-car-technology-market-to-see-booming-growth-with-volvo-cars-volkswagen-ag-deeproute/\n",
            "https://koreajoongangdaily.joins.com/2020/10/11/business/industry/BMW-5-series-6-series/20201011180100383.html\n",
            "https://bestgamingpro.com/microsoft-updates-its-surface-pro-x-tablet/\n",
            "https://rejerusalem.com/47463/driving-simulator-market-2020-current-and-future-trend-scenario-explored-in-new-latest-research-report/\n",
            "https://ourbitcoinnews.com/heres-what-sebastian-vettel-thinks-of-autonomous-cars/\n",
            "https://www.cardekho.com/india-car-news/car-news-that-mattered-mg-gloster-and-mercedesbenz-eqc-launched-tata-harrier-gets-a-new-dark-edition-variant-hyundai-cretarsquos-price-hiked-nissan-magnite-and-citroenrsquos-sonetrival-spied-26203.htm\n",
            "http://www.koreaherald.com/view.php?ud=20201011000111\n",
            "https://telecom.economictimes.indiatimes.com/tele-talk/5g-the-vital-component-in-building-a-smart-city/4567\n",
            "https://rejerusalem.com/47874/vehicle-control-unit-market-key-regions-company-profile-opportunity-and-challenge/\n",
            "https://rejerusalem.com/48392/autonomous-luxury-vehicle-market-innovative-marketing-campaigns-and-business-intelligence-report/\n",
            "https://onezero.medium.com/the-overlooked-conservative-case-for-reining-in-big-tech-5d1942d79a26?source=rss----444d13b52878---4\n",
            "https://bestgamingpro.com/top-mobility-vcs-on-the-risks-and-rewards-in-partnering-with-giants-like-amazon-techcrunch/\n",
            "https://bestgamingpro.com/netflixs-enola-holmes-is-thoroughly-mediocre-techcrunch/\n",
            "https://www.news957.com/world/2020/10/11/bus-train-collision-in-central-thailand-leaves-17-dead/\n",
            "https://fintechzoom.com/fintech_news_fintech-news-today/nio-rally-reaching-161-eight-fibonacci-extension-subsequent-targets-fintech-zoom-fintech-zoom-fintech-zoom/\n",
            "https://wcregisteronline.com/2020/10/11/automotive-gesture-recognition-market-size-share/\n",
            "https://prnewsleader.com/news/207253/global-automotive-artificial-intelligence-market-by-trends-type-application-region-and-forecast-2020-2027-by-reportspedia/\n",
            "https://news.cgtn.com/news/2020-10-11/China-s-homestay-inns-orders-recovered-more-than-90-year-on-year-UuSiT8qa2c/index.html\n",
            "https://bestgamingpro.com/yoga-kits/\n",
            "https://www.zigwheels.com/news-features/news/mg-gloster-fullsize-suv-detailed-image-gallery/40011/\n",
            "https://www.thetimes.co.uk/article/gadget-fix-x20kmsf0b\n",
            "https://au.sports.yahoo.com/laura-salvo-death-motorsport-rocked-co-driver-tragedy-214306657.html\n",
            "https://prnewsleader.com/uncategorized/196596/steering-robot-market-report-2020-covid-19-impact-analysis-by-segmentations-key-company-profiles-demand-forecasts-to-2020-2026/\n",
            "https://www.news957.com/world/2020/10/10/4-killed-2-injured-in-shooting-in-southern-puerto-rico/\n",
            "https://bestgamingpro.com/huawei-tweets-it-will-debut-its-mate-40-devices-on-october-22nd/\n",
            "https://rejerusalem.com/47745/automotive-in-wheel-motors-market-2020-worldwide-industry-size-key-vendors-growth-drivers-opportunity-and-competitive-landscape-forecast/\n",
            "https://rejerusalem.com/46608/driving-simulator-market-by-type-application-element-global-trends-and-forecast-2026-cruden-b-v-mechanical-simulation-corporation-moog-inc-eca-group/\n",
            "https://www.whatech.com/markets-research/transport/668238-autonomous-emergency-braking-aeb-system-market-regional-outlook-volume-analysis-2020\n",
            "https://rejerusalem.com/48390/autonomous-robot-toys-market-economic-forecasting-economic-forecasting-of-influencing-players-strategic-insights-with-growth-accelerating-factors/\n",
            "https://avondhupress.ie/all-new-sorento-arrives-in-irish-showrooms/\n",
            "https://hackaday.com/2020/10/11/modular-rover-platform-rolls-on-3d-printed-flexible-tank-tracks/\n",
            "https://finance.yahoo.com/news/apples-5g-iphone-may-see-192107784.html\n",
            "https://absolutenewsjournal.com/476760/vision-processing-unit-market-2020-analysis-forecast-to-2025-by-key-players-types-applications-absolute-reports/\n",
            "https://prnewsleader.com/uncategorized/126545/latest-news-2020-military-robotics-autonomous-systems-market-by-coronavirus-covid19-impact-analysis-with-top-manufacturers-analysis-top-players-lockheed-marin-corporation-us-endeavor-robotics/\n",
            "https://www.autoevolution.com/news/2021-dacia-logan-reimagined-with-coupe-pickup-mcv-body-styles-149964.html\n",
            "https://bestgamingpro.com/handheld-back-massagers/\n",
            "https://upnewsinfo.com/2020/10/10/tech-mahindra-tech-mahindra-expands-alliance-with-bmc-software-latest-news/\n",
            "https://bestgamingpro.com/image-stabilizing-binoculars/\n",
            "https://sportsgrindentertainment.com/republican-senators-fear-bloodbath-as-joe-biden-extends-lead/\n",
            "https://www.washingtonpost.com/video/national/university-of-virginia-freshman-plays-virtual-concert-for-fellow-students/2020/10/10/718fa792-7900-415d-b699-221f50e2ee4d_video.html\n",
            "https://sportsgrindentertainment.com/u-s-oil-faces-a-perfect-storm-and-its-bigger-than-just-one-hurricane/\n",
            "https://sportsgrindentertainment.com/ken-starr-biden-harris-making-terrible-decision-not-to-reveal-choice-for-supreme-court/\n",
            "https://sportsgrindentertainment.com/saturday-night-live-addresses-the-2020-vice-presidential-debate-in-a-divisive-sketch-about-the-fly-and-herman-cain/\n",
            "https://adifymedia.com/global-autonomous-material-handling-trucks-market-2020-research-by-business-opportunities-top-companies-report-covers-top-countries-analysisimpact-corporate-synergy-disruption-deep-dive-core-c/237713/\n",
            "https://sportsgrindentertainment.com/federal-judge-throws-out-trump-challenge-to-pennsylvania-voting/\n",
            "https://sportsgrindentertainment.com/africa-needs-1-2tn-to-recover-coronavirus-losses/\n",
            "https://sportsgrindentertainment.com/sen-tammy-duckworth-was-once-told-to-pump-breast-milk-in-an-airport-toilet-stall-now-she-has-unlocked-funding-to-put-lactation-rooms-in-all-of-americas-airports/\n",
            "http://www.intellinews.com/a-tajikistan-poised-on-verge-of-economic-calamity-set-for-vote-193872/\n",
            "https://prnewsleader.com/uncategorized/121640/2020-current-trends-in-automotive-lidar-market-growth-analysis-opportunities-trends-developments-and-forecast/\n",
            "https://sportsgrindentertainment.com/trump-backs-revoking-tariff-exemption-for-some-solar-panel-imports/\n",
            "https://cio.economictimes.indiatimes.com/news/next-gen-technologies/indias-massive-digital-footprint-biggest-strength-for-ai-development-kant/78590892\n",
            "https://sportsgrindentertainment.com/fury-as-lindsey-graham-says-young-black-people-can-go-anywhere-but-only-if-theyre-conservative/\n",
            "https://sportsgrindentertainment.com/dr-birx-says-covid-is-now-spreading-in-homes-and-she-fears-upticks-in-some-of-best-performing-states/\n",
            "https://www.varsity.co.uk/arts/19946\n",
            "https://bestgamingpro.com/public-investors-stay-in-love-with-tech-as-root-and-affirm-file-to-ipo-techcrunch/\n",
            "https://prnewsleader.com/uncategorized/207434/geriatric-care-devices-market-2020-research-report-covers-updated-data-considering-post-impact-of-covid-19-on-share-size-and-future-demand-cardinal-healthinvacarekimberly-clark/\n",
            "https://prnewsleader.com/uncategorized/207046/ethical-pharmaceuticals-market-2020-research-report-covers-updated-data-considering-post-impact-of-covid-19-on-share-size-and-future-demand-teva-pharmaceutical-industriesglaxosmithkline/\n",
            "https://prnewsleader.com/uncategorized/206441/facility-maintenance-service-market-2020-research-report-covers-updated-data-considering-post-impact-of-covid-19-on-share-size-and-future-demand-sodexobms-building-maintenance-serviceiss/\n",
            "https://hellendoornsnieuwsblad.nl/global-artificial-intelligence-for-automotive-market-marktomvang-2021/\n",
            "https://prnewsleader.com/uncategorized/115033/clinical-workflow-solution-market-covid-19-impact-future-of-investment-opportunities-market-share-trends-to-2026/\n",
            "https://prnewsleader.com/uncategorized/115028/mixed-reality-technology-market-technology-development-trend-segmentation-overall-market-analysis-and-forecast-to-2026/\n",
            "https://prnewsleader.com/uncategorized/115074/research-on-ai-powered-video-analytics-market-post-covid-19-impact-with-top-players-agent-vi-cisco-ibm-intellivision-verint-and-other/\n",
            "https://prnewsleader.com/uncategorized/118004/global-retail-kiosks-market-growth-evaluation-2020-2026-top-key-players-are-ncr-ncr-corporation-elographics-rockwell-collins-and-more/\n",
            "https://prnewsleader.com/uncategorized/117929/agritech-market-share-forecast-by-application-2020-analysis-and-forecasts-to-2026-prospera-technologies-vision-robotics-sap-microsoft-and-more/\n",
            "https://prnewsleader.com/uncategorized/117904/iot-in-smart-buildings-market-trends-regulations-and-competitive-landscape-outlook-to-2026/\n",
            "https://prnewsleader.com/uncategorized/115015/impact-of-covid-19-on-telecom-cyber-security-solution-research-growth-trends-and-competitive-analysis-2020-2026/\n",
            "https://prnewsleader.com/uncategorized/115040/electronic-recruitment-market-current-and-future-demand-2027-recruit-linkedin-careerbuilder-monster-seek/\n",
            "http://norskposten.com/2020/10/10/5g-basestasjon-markedsstorrelse-2020-vokser-raskt-med-forretningstrender-utvikling-andel-fremtredende-selskaper-regional-vekst-sier-bransjens-forskningsbiz/\n",
            "https://eurowire.co/coronavirus/96504/autonomous-ships-market-extensive-growth-opportunities-size-be-witnessed-size-covid-19-2026/\n",
            "https://technoweekly.com/technologies/117221/ultra-reliable-low-latency-communicationsurllc-market-by-size-growth-analysis-trends-and-forecasts-to-2020-2026/\n",
            "https://eurowire.co/economy/93739/softwaredefined-data-center-market-overview-key-trends-competitive-landscape-till-2025/\n",
            "https://technoweekly.com/uncategorized/114465/system-basis-chip-market-to-make-great-impact-in-near-future-by-2020-2026/\n",
            "https://eurowire.co/uncategorized/93846/global-5g-base-station-market-2020-trends-analysis-and-covid-19-effect-analysis-key-players-market-with-covid-19-impact-analysis-in-depth-insight-growth-research-finding-to-2026/\n",
            "https://technoweekly.com/uncategorized/108999/automotive-camera-modules-lens-industry-research-report-growth-trends-and-competitive-analysis-2020-2026-market-10-year-automotive-camera-modules-lens-industry-research-report-growth-trends-and-comp/\n",
            "https://thinkcuriouser.com/news/48008/jigger-market-intense-competition-but-high-growth-extreme-valuation/\n",
            "https://eurowire.co/uncategorized/92391/artificial-pancreas-device-system-apds-market-a-fresh-look-at-momentum-gained-by-key-emerging-players-medtronic-bigfoot-biomedical-beta-bionics/\n",
            "https://eurowire.co/economy/92068/massive-growth-in-asset-recovery-services-market-with-sales-demand-consumption-and-strategies-2026-ibm-sims-recycling-dell-lenovo-hpe-and-more/\n",
            "https://eurowire.co/coronavirus/92066/global-fitness-consultation-market-growth-evaluation-2020-2026-top-key-players-are-technogym-precor-elite-tacx-kinetic-minoura-schwinn-and-more/\n",
            "https://eurowire.co/coronavirus/92073/data-discovery-platform-market-expected-to-reach-highest-cagr-by-2026-top-playerswipro-qlik-dundas-ibm-sisense-board-and-more/\n",
            "https://eurowire.co/economy/92069/player-tracking-market-current-and-future-demand-2027-zebra-technologies-catapult-sports-statsports-chyronhego-stats-and-more/\n",
            "https://eurowire.co/energy/92070/electric-bicycles-market-current-and-future-demand-2027-greyp-bikes-haibike-benelli-sunra-aima-m55-and-more/\n"
          ],
          "name": "stdout"
        }
      ]
    },
    {
      "cell_type": "code",
      "metadata": {
        "id": "JEsNwy79irVb",
        "outputId": "c5e69e6f-f435-442c-d69d-2fbda0db1f71",
        "colab": {
          "base_uri": "https://localhost:8080/",
          "height": 34
        }
      },
      "source": [
        "len(url_list)"
      ],
      "execution_count": 6,
      "outputs": [
        {
          "output_type": "execute_result",
          "data": {
            "text/plain": [
              "101"
            ]
          },
          "metadata": {
            "tags": []
          },
          "execution_count": 6
        }
      ]
    },
    {
      "cell_type": "code",
      "metadata": {
        "id": "b3UAWGsMirVe"
      },
      "source": [
        "metadata_out = pd.DataFrame(columns=[\"Term\",\"Date\",\"URL\",\"Title\",\"Desc\",\"Tags\"])"
      ],
      "execution_count": 7,
      "outputs": []
    },
    {
      "cell_type": "code",
      "metadata": {
        "id": "TSOtuVAFirVj"
      },
      "source": [
        "for i in url_list:\n",
        "    try:\n",
        "        r = requests.get(i)\n",
        "        page = metadata_parser.MetadataParser(url=i)\n",
        "        title = page.get_metadatas('title')\n",
        "        desc = page.get_metadatas('description')\n",
        "        date = page.get_metadatas('sailthru.date')\n",
        "        tags = page.get_metadatas('sailthru.tags')\n",
        "    except Exception:\n",
        "        title = \"\"\n",
        "        desc = \"\"\n",
        "        date = \"\"\n",
        "        tags = \"\"\n",
        "    metadata_out = metadata_out.append({'Term':searchterm,'Date':date, 'URL':i,'Title':title, 'Desc':desc, 'Tags':tags}, ignore_index=True)"
      ],
      "execution_count": 8,
      "outputs": []
    },
    {
      "cell_type": "code",
      "metadata": {
        "id": "MU_vL-kqirVm",
        "outputId": "f0aba9d0-4182-4512-e958-d2eb57429ce4",
        "colab": {
          "base_uri": "https://localhost:8080/",
          "height": 419
        }
      },
      "source": [
        "metadata_out"
      ],
      "execution_count": 9,
      "outputs": [
        {
          "output_type": "execute_result",
          "data": {
            "text/html": [
              "<div>\n",
              "<style scoped>\n",
              "    .dataframe tbody tr th:only-of-type {\n",
              "        vertical-align: middle;\n",
              "    }\n",
              "\n",
              "    .dataframe tbody tr th {\n",
              "        vertical-align: top;\n",
              "    }\n",
              "\n",
              "    .dataframe thead th {\n",
              "        text-align: right;\n",
              "    }\n",
              "</style>\n",
              "<table border=\"1\" class=\"dataframe\">\n",
              "  <thead>\n",
              "    <tr style=\"text-align: right;\">\n",
              "      <th></th>\n",
              "      <th>Term</th>\n",
              "      <th>Date</th>\n",
              "      <th>URL</th>\n",
              "      <th>Title</th>\n",
              "      <th>Desc</th>\n",
              "      <th>Tags</th>\n",
              "    </tr>\n",
              "  </thead>\n",
              "  <tbody>\n",
              "    <tr>\n",
              "      <th>0</th>\n",
              "      <td>Goolge AD</td>\n",
              "      <td></td>\n",
              "      <td>https://www.forbes.com/sites/enriquedans/2020/...</td>\n",
              "      <td></td>\n",
              "      <td></td>\n",
              "      <td></td>\n",
              "    </tr>\n",
              "    <tr>\n",
              "      <th>1</th>\n",
              "      <td>Goolge AD</td>\n",
              "      <td></td>\n",
              "      <td>https://oilprice.com/Energy/Energy-General/The...</td>\n",
              "      <td></td>\n",
              "      <td></td>\n",
              "      <td></td>\n",
              "    </tr>\n",
              "    <tr>\n",
              "      <th>2</th>\n",
              "      <td>Goolge AD</td>\n",
              "      <td></td>\n",
              "      <td>https://www.theburnin.com/technology/waymo-sel...</td>\n",
              "      <td></td>\n",
              "      <td></td>\n",
              "      <td></td>\n",
              "    </tr>\n",
              "    <tr>\n",
              "      <th>3</th>\n",
              "      <td>Goolge AD</td>\n",
              "      <td></td>\n",
              "      <td>https://seekingalpha.com/article/4378479-who-w...</td>\n",
              "      <td></td>\n",
              "      <td></td>\n",
              "      <td></td>\n",
              "    </tr>\n",
              "    <tr>\n",
              "      <th>4</th>\n",
              "      <td>Goolge AD</td>\n",
              "      <td></td>\n",
              "      <td>https://www.geektime.com/foretellix-acquires-m...</td>\n",
              "      <td></td>\n",
              "      <td></td>\n",
              "      <td></td>\n",
              "    </tr>\n",
              "    <tr>\n",
              "      <th>...</th>\n",
              "      <td>...</td>\n",
              "      <td>...</td>\n",
              "      <td>...</td>\n",
              "      <td>...</td>\n",
              "      <td>...</td>\n",
              "      <td>...</td>\n",
              "    </tr>\n",
              "    <tr>\n",
              "      <th>96</th>\n",
              "      <td>Goolge AD</td>\n",
              "      <td></td>\n",
              "      <td>https://eurowire.co/economy/92068/massive-grow...</td>\n",
              "      <td></td>\n",
              "      <td></td>\n",
              "      <td></td>\n",
              "    </tr>\n",
              "    <tr>\n",
              "      <th>97</th>\n",
              "      <td>Goolge AD</td>\n",
              "      <td></td>\n",
              "      <td>https://eurowire.co/coronavirus/92066/global-f...</td>\n",
              "      <td></td>\n",
              "      <td></td>\n",
              "      <td></td>\n",
              "    </tr>\n",
              "    <tr>\n",
              "      <th>98</th>\n",
              "      <td>Goolge AD</td>\n",
              "      <td></td>\n",
              "      <td>https://eurowire.co/coronavirus/92073/data-dis...</td>\n",
              "      <td></td>\n",
              "      <td></td>\n",
              "      <td></td>\n",
              "    </tr>\n",
              "    <tr>\n",
              "      <th>99</th>\n",
              "      <td>Goolge AD</td>\n",
              "      <td></td>\n",
              "      <td>https://eurowire.co/economy/92069/player-track...</td>\n",
              "      <td></td>\n",
              "      <td></td>\n",
              "      <td></td>\n",
              "    </tr>\n",
              "    <tr>\n",
              "      <th>100</th>\n",
              "      <td>Goolge AD</td>\n",
              "      <td></td>\n",
              "      <td>https://eurowire.co/energy/92070/electric-bicy...</td>\n",
              "      <td></td>\n",
              "      <td></td>\n",
              "      <td></td>\n",
              "    </tr>\n",
              "  </tbody>\n",
              "</table>\n",
              "<p>101 rows × 6 columns</p>\n",
              "</div>"
            ],
            "text/plain": [
              "          Term Date  ... Desc Tags\n",
              "0    Goolge AD       ...          \n",
              "1    Goolge AD       ...          \n",
              "2    Goolge AD       ...          \n",
              "3    Goolge AD       ...          \n",
              "4    Goolge AD       ...          \n",
              "..         ...  ...  ...  ...  ...\n",
              "96   Goolge AD       ...          \n",
              "97   Goolge AD       ...          \n",
              "98   Goolge AD       ...          \n",
              "99   Goolge AD       ...          \n",
              "100  Goolge AD       ...          \n",
              "\n",
              "[101 rows x 6 columns]"
            ]
          },
          "metadata": {
            "tags": []
          },
          "execution_count": 9
        }
      ]
    },
    {
      "cell_type": "code",
      "metadata": {
        "id": "MqNx-Er6irVp"
      },
      "source": [
        "metadata_out.to_csv('AD TheVerge metadata.csv')"
      ],
      "execution_count": 10,
      "outputs": []
    },
    {
      "cell_type": "code",
      "metadata": {
        "id": "aqTKzyYSirVs"
      },
      "source": [
        ""
      ],
      "execution_count": null,
      "outputs": []
    }
  ]
}